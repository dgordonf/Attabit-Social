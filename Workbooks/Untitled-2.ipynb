{
 "cells": [
  {
   "cell_type": "code",
   "execution_count": 1,
   "metadata": {},
   "outputs": [],
   "source": [
    "from postmarker.core import PostmarkClient"
   ]
  },
  {
   "cell_type": "code",
   "execution_count": 6,
   "metadata": {},
   "outputs": [
    {
     "data": {
      "text/plain": [
       "{'To': 'dave@attabit.com',\n",
       " 'SubmittedAt': '2022-09-16T03:07:06.8321392Z',\n",
       " 'MessageID': '94bf678a-ac90-4a67-a2cf-eec97a804e63',\n",
       " 'ErrorCode': 0,\n",
       " 'Message': 'OK'}"
      ]
     },
     "execution_count": 6,
     "metadata": {},
     "output_type": "execute_result"
    },
    {
     "ename": "",
     "evalue": "",
     "output_type": "error",
     "traceback": [
      "\u001b[1;31mThe Kernel crashed while executing code in the the current cell or a previous cell. Please review the code in the cell(s) to identify a possible cause of the failure. Click <a href='https://aka.ms/vscodeJupyterKernelCrash'>here</a> for more info. View Jupyter <a href='command:jupyter.viewOutput'>log</a> for further details."
     ]
    }
   ],
   "source": [
    "postmark = PostmarkClient(server_token='2a1e18fe-6058-4fc6-b13e-24b0c10139d5')\n",
    "postmark.emails.send(\n",
    "  From='support@attabit.com',\n",
    "  To='dave@attabit.com',\n",
    "  Subject='Postmark test',\n",
    "  HtmlBody='HTML body goes here'\n",
    ")"
   ]
  }
 ],
 "metadata": {
  "kernelspec": {
   "display_name": "Python 3.8.10 64-bit (microsoft store)",
   "language": "python",
   "name": "python3"
  },
  "language_info": {
   "codemirror_mode": {
    "name": "ipython",
    "version": 3
   },
   "file_extension": ".py",
   "mimetype": "text/x-python",
   "name": "python",
   "nbconvert_exporter": "python",
   "pygments_lexer": "ipython3",
   "version": "3.8.10"
  },
  "orig_nbformat": 4,
  "vscode": {
   "interpreter": {
    "hash": "aa0e2723f11fc5b5c41506ab4ac5acd33b8668ecf60341838705c3179608e564"
   }
  }
 },
 "nbformat": 4,
 "nbformat_minor": 2
}
