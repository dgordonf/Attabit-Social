{
 "cells": [
  {
   "cell_type": "code",
   "execution_count": 1,
   "metadata": {},
   "outputs": [],
   "source": [
    "from gzip import READ\n",
    "from flask import Flask, request, render_template, redirect, url_for, flash, jsonify, send_from_directory, current_app\n",
    "import requests\n",
    "from string import Template\n",
    "from flask_sqlalchemy import SQLAlchemy\n",
    "from numpy import isnan\n",
    "import sqlalchemy\n",
    "import pandas as pd\n",
    "pd.options.mode.chained_assignment = None\n",
    "from pandas import DataFrame\n",
    "from pandas.util import hash_pandas_object\n",
    "import re\n",
    "from flask_gtts import gtts\n",
    "from config import GMAIL_PASSWORD, GMAIL_USERNAME, Config, S3_KEY, S3_SECRET, S3_BUCKET, SES_REGION_NAME, SES_EMAIL_SOURCE, GMAIL_USERNAME, GMAIL_PASSWORD, SERVER_NAME, SECRET_KEY\n",
    "from flask_login import LoginManager\n",
    "from models import LoginForm, RegistrationForm, PasswordResetForm, PasswordChangeForm, upload_file_to_s3, time_ago\n",
    "from wtforms import validators\n",
    "from wtforms.fields.html5 import EmailField\n",
    "import email_validator\n",
    "from passlib.hash import sha256_crypt\n",
    "from flask_login import login_user, logout_user, login_required, current_user\n",
    "import bcrypt\n",
    "from datetime import datetime, timedelta\n",
    "from dateutil import tz\n",
    "from colour import Color\n",
    "import re\n",
    "import boto3, botocore\n",
    "from django.utils.crypto import get_random_string\n",
    "from werkzeug.utils import secure_filename\n",
    "import os\n",
    "import base64\n",
    "import six\n",
    "import uuid\n",
    "import imghdr\n",
    "import io\n",
    "import pytz\n",
    "\n",
    "\n",
    "# Not the entire world, just your best friends. \n",
    "application = Flask(__name__)\n",
    "application.secret_key = application.config['SECRET_KEY']\n",
    "\n",
    "application.config.from_object(Config)\n",
    "\n",
    "\n",
    "#This is for users table\n",
    "db = SQLAlchemy(application, engine_options={\"pool_recycle\": 1800})\n",
    "db.init_app(application)\n",
    "\n",
    "##Create SQL Engine Look at this: https://docs.sqlalchemy.org/en/14/core/pooling.html#pool-disconnects\n",
    "engine = sqlalchemy.create_engine(application.config['SQLALCHEMY_DATABASE_URI'], pool_recycle=3600,)"
   ]
  },
  {
   "cell_type": "code",
   "execution_count": null,
   "metadata": {},
   "outputs": [],
   "source": [
    "\n",
    "class User(db.Model):\n",
    "\n",
    "    __tablename__ = 'users'\n",
    "    email = db.Column(db.String, primary_key=True)\n",
    "    id = db.Column(db.String)\n",
    "    handle = db.Column(db.String)\n",
    "    password = db.Column(db.String)\n",
    "    authenticated = db.Column(db.Boolean, default=False)\n",
    "    \n",
    "    def is_active(self):\n",
    "        \"\"\"True, as all users are active.\"\"\"\n",
    "        return True\n",
    "    \n",
    "    def get_id(self):\n",
    "        \"\"\"Return the email address to satisfy Flask-Login's requirements.\"\"\"\n",
    "        return self.email\n",
    "\n",
    "    def get_user_id(self):\n",
    "        \"\"\"Return the email address to satisfy Flask-Login's requirements.\"\"\"\n",
    "        return self.id   \n",
    "\n",
    "    def get_user_handle(self):\n",
    "        \"\"\"Return the email address to satisfy Flask-Login's requirements.\"\"\"\n",
    "        return self.handle         \n",
    "        \n",
    "    def is_authenticated(self):\n",
    "        \"\"\"Return True if the user is authenticate#d.\"\"\"\n",
    "        return self.authenticated\n"
   ]
  },
  {
   "cell_type": "code",
   "execution_count": null,
   "metadata": {},
   "outputs": [],
   "source": [
    "df = get_feed(8, None)\n",
    "df = format_feed(df)\n",
    "\n",
    "print(df)"
   ]
  },
  {
   "cell_type": "code",
   "execution_count": 61,
   "metadata": {},
   "outputs": [],
   "source": [
    "def notify_mentionted_users(post_text, current_user):\n",
    "    if '@' in post_text:\n",
    "        #Get the list of users that are mentioned\n",
    "        users = re.findall(r'@([a-zA-Z0-9_]+)', post_text)\n",
    "        for user in users:\n",
    "                #Get user_id of follow account\n",
    "            with engine.connect() as connection:\n",
    "                ResultProxy = connection.execute('''SELECT u.id \n",
    "                                                    FROM users u \n",
    "                                                    WHERE u.handle = %s; ''', (user))\n",
    "\n",
    "            df = DataFrame(ResultProxy.fetchall())\n",
    "            if len(df) > 0:\n",
    "                df.columns = ResultProxy.keys()\n",
    "\n",
    "                mentioned_user_id = df['id'][0]\n",
    "                print(mentioned_user_id)\n",
    "\n",
    "\n",
    "                #Get the post_id of the post\n",
    "                with engine.connect() as connection:\n",
    "                    ResultProxy = connection.execute('''SELECT p.post_id\n",
    "                                                        FROM posts p \n",
    "                                                        WHERE p.user_id = %s \n",
    "                                                        ORDER BY p.post_id DESC\n",
    "                                                        LIMIT 1; ''', (current_user))\n",
    "                    df = DataFrame(ResultProxy.fetchall())\n",
    "                    df.columns = ResultProxy.keys()\n",
    "\n",
    "                post_id = df['post_id'][0]\n",
    "\n",
    "                #Notify the user that someone mentioned them\n",
    "                event_type_id = 3\n",
    "                with engine.connect() as connection:\n",
    "                    connection.execute('INSERT INTO notifications (user_id, triggered_by_user_id, event_type_id, reference_post_id) VALUES (%s, %s, %s, %s);',  (mentioned_user_id, current_user, event_type_id, post_id))\n",
    "                    \n",
    "                        \n",
    "            "
   ]
  },
  {
   "cell_type": "code",
   "execution_count": null,
   "metadata": {},
   "outputs": [],
   "source": [
    "\n",
    "post_text = \"TEST - @Matthew have you ever seen this? https://www.youtube.com/watch?v=dQw4w9WgXcQ\"\n",
    "\n",
    "current_user = 8\n",
    "\n",
    "notify_mentionted_users(post_text, current_user)\n",
    "    "
   ]
  },
  {
   "cell_type": "code",
   "execution_count": 6,
   "metadata": {},
   "outputs": [
    {
     "name": "stdout",
     "output_type": "stream",
     "text": [
      "Empty DataFrame\n",
      "Columns: []\n",
      "Index: []\n"
     ]
    }
   ],
   "source": [
    "post_id = 1000\n",
    "user_id = 8\n",
    "\n",
    "#confirm this user did not create this post\n",
    "with engine.connect() as connection:\n",
    "    ResultProxy = connection.execute(\"\"\"SELECT *\n",
    "                                            FROM posts p\n",
    "                                            WHERE post_id = %s AND p.user_id != %s;\n",
    "                                            \"\"\", (post_id, user_id))\n",
    "    df = DataFrame(ResultProxy.fetchall())\n",
    "    print(df)"
   ]
  }
 ],
 "metadata": {
  "interpreter": {
   "hash": "e8fe2f68fb170d3e59715732971b3e459b293954a8edfc2b4e8212f6d304449f"
  },
  "kernelspec": {
   "display_name": "Python 3.9.12 64-bit (windows store)",
   "language": "python",
   "name": "python3"
  },
  "language_info": {
   "codemirror_mode": {
    "name": "ipython",
    "version": 3
   },
   "file_extension": ".py",
   "mimetype": "text/x-python",
   "name": "python",
   "nbconvert_exporter": "python",
   "pygments_lexer": "ipython3",
   "version": "3.9.13"
  },
  "orig_nbformat": 4
 },
 "nbformat": 4,
 "nbformat_minor": 2
}
