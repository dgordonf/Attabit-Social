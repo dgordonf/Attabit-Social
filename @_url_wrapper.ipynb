{
 "cells": [
  {
   "cell_type": "code",
   "execution_count": 3,
   "metadata": {},
   "outputs": [],
   "source": [
    "from gzip import READ\n",
    "from flask import Flask, request, render_template, redirect, url_for, flash, jsonify, send_from_directory, current_app\n",
    "import requests\n",
    "from string import Template\n",
    "from flask_sqlalchemy import SQLAlchemy\n",
    "from numpy import isnan\n",
    "import sqlalchemy\n",
    "import pandas as pd\n",
    "pd.options.mode.chained_assignment = None\n",
    "from pandas import DataFrame\n",
    "from pandas.util import hash_pandas_object\n",
    "import re\n",
    "from flask_gtts import gtts\n",
    "from config import GMAIL_PASSWORD, GMAIL_USERNAME, Config, S3_KEY, S3_SECRET, S3_BUCKET, SES_REGION_NAME, SES_EMAIL_SOURCE, GMAIL_USERNAME, GMAIL_PASSWORD, SERVER_NAME, SECRET_KEY\n",
    "from flask_login import LoginManager\n",
    "from models import LoginForm, RegistrationForm, PasswordResetForm, PasswordChangeForm, upload_file_to_s3, time_ago\n",
    "from wtforms import validators\n",
    "from wtforms.fields.html5 import EmailField\n",
    "import email_validator\n",
    "from passlib.hash import sha256_crypt\n",
    "from flask_login import login_user, logout_user, login_required, current_user\n",
    "import bcrypt\n",
    "from datetime import datetime, timedelta\n",
    "from dateutil import tz\n",
    "from colour import Color\n",
    "import re\n",
    "import boto3, botocore\n",
    "from django.utils.crypto import get_random_string\n",
    "from werkzeug.utils import secure_filename\n",
    "import os\n",
    "import base64\n",
    "import six\n",
    "import uuid\n",
    "import imghdr\n",
    "import io\n",
    "import pytz\n",
    "\n",
    "\n",
    "# Not the entire world, just your best friends. \n",
    "application = Flask(__name__)\n",
    "application.secret_key = application.config['SECRET_KEY']\n",
    "\n",
    "application.config.from_object(Config)\n",
    "\n",
    "\n",
    "#This is for users table\n",
    "db = SQLAlchemy(application, engine_options={\"pool_recycle\": 1800})\n",
    "db.init_app(application)\n",
    "\n",
    "##Create SQL Engine Look at this: https://docs.sqlalchemy.org/en/14/core/pooling.html#pool-disconnects\n",
    "engine = sqlalchemy.create_engine(application.config['SQLALCHEMY_DATABASE_URI'], pool_recycle=3600,)"
   ]
  },
  {
   "cell_type": "code",
   "execution_count": 12,
   "metadata": {},
   "outputs": [
    {
     "name": "stderr",
     "output_type": "stream",
     "text": [
      "C:\\Users\\Dave\\AppData\\Local\\Packages\\PythonSoftwareFoundation.Python.3.9_qbz5n2kfra8p0\\LocalCache\\local-packages\\Python39\\site-packages\\flask_sqlalchemy\\model.py:121: SAWarning: This declarative base already contains a class with the same class name and module name as __main__.User, and will be replaced in the string-lookup table.\n",
      "  super(BindMetaMixin, cls).__init__(name, bases, d)\n"
     ]
    },
    {
     "ename": "InvalidRequestError",
     "evalue": "Table 'users' is already defined for this MetaData instance.  Specify 'extend_existing=True' to redefine options and columns on an existing Table object.",
     "output_type": "error",
     "traceback": [
      "\u001b[1;31m---------------------------------------------------------------------------\u001b[0m",
      "\u001b[1;31mInvalidRequestError\u001b[0m                       Traceback (most recent call last)",
      "\u001b[1;32mc:\\Users\\Dave\\Desktop\\i\\Ventures\\Kalico\\Kalico\\@_url_wrapper.ipynb Cell 2'\u001b[0m in \u001b[0;36m<module>\u001b[1;34m\u001b[0m\n\u001b[1;32m----> <a href='vscode-notebook-cell:/c%3A/Users/Dave/Desktop/i/Ventures/Kalico/Kalico/%40_url_wrapper.ipynb#ch0000004?line=0'>1</a>\u001b[0m \u001b[39mclass\u001b[39;00m \u001b[39mUser\u001b[39;00m(db\u001b[39m.\u001b[39mModel):\n\u001b[0;32m      <a href='vscode-notebook-cell:/c%3A/Users/Dave/Desktop/i/Ventures/Kalico/Kalico/%40_url_wrapper.ipynb#ch0000004?line=2'>3</a>\u001b[0m     __tablename__ \u001b[39m=\u001b[39m \u001b[39m'\u001b[39m\u001b[39musers\u001b[39m\u001b[39m'\u001b[39m\n\u001b[0;32m      <a href='vscode-notebook-cell:/c%3A/Users/Dave/Desktop/i/Ventures/Kalico/Kalico/%40_url_wrapper.ipynb#ch0000004?line=3'>4</a>\u001b[0m     email \u001b[39m=\u001b[39m db\u001b[39m.\u001b[39mColumn(db\u001b[39m.\u001b[39mString, primary_key\u001b[39m=\u001b[39m\u001b[39mTrue\u001b[39;00m)\n",
      "File \u001b[1;32m~\\AppData\\Local\\Packages\\PythonSoftwareFoundation.Python.3.9_qbz5n2kfra8p0\\LocalCache\\local-packages\\Python39\\site-packages\\flask_sqlalchemy\\model.py:67\u001b[0m, in \u001b[0;36mNameMetaMixin.__init__\u001b[1;34m(cls, name, bases, d)\u001b[0m\n\u001b[0;32m     64\u001b[0m \u001b[39mif\u001b[39;00m should_set_tablename(\u001b[39mcls\u001b[39m):\n\u001b[0;32m     65\u001b[0m     \u001b[39mcls\u001b[39m\u001b[39m.\u001b[39m__tablename__ \u001b[39m=\u001b[39m camel_to_snake_case(\u001b[39mcls\u001b[39m\u001b[39m.\u001b[39m\u001b[39m__name__\u001b[39m)\n\u001b[1;32m---> 67\u001b[0m \u001b[39msuper\u001b[39;49m(NameMetaMixin, \u001b[39mcls\u001b[39;49m)\u001b[39m.\u001b[39;49m\u001b[39m__init__\u001b[39;49m(name, bases, d)\n\u001b[0;32m     69\u001b[0m \u001b[39m# __table_cls__ has run at this point\u001b[39;00m\n\u001b[0;32m     70\u001b[0m \u001b[39m# if no table was created, use the parent table\u001b[39;00m\n\u001b[0;32m     71\u001b[0m \u001b[39mif\u001b[39;00m (\n\u001b[0;32m     72\u001b[0m     \u001b[39m'\u001b[39m\u001b[39m__tablename__\u001b[39m\u001b[39m'\u001b[39m \u001b[39mnot\u001b[39;00m \u001b[39min\u001b[39;00m \u001b[39mcls\u001b[39m\u001b[39m.\u001b[39m\u001b[39m__dict__\u001b[39m\n\u001b[0;32m     73\u001b[0m     \u001b[39mand\u001b[39;00m \u001b[39m'\u001b[39m\u001b[39m__table__\u001b[39m\u001b[39m'\u001b[39m \u001b[39min\u001b[39;00m \u001b[39mcls\u001b[39m\u001b[39m.\u001b[39m\u001b[39m__dict__\u001b[39m\n\u001b[0;32m     74\u001b[0m     \u001b[39mand\u001b[39;00m \u001b[39mcls\u001b[39m\u001b[39m.\u001b[39m\u001b[39m__dict__\u001b[39m[\u001b[39m'\u001b[39m\u001b[39m__table__\u001b[39m\u001b[39m'\u001b[39m] \u001b[39mis\u001b[39;00m \u001b[39mNone\u001b[39;00m\n\u001b[0;32m     75\u001b[0m ):\n",
      "File \u001b[1;32m~\\AppData\\Local\\Packages\\PythonSoftwareFoundation.Python.3.9_qbz5n2kfra8p0\\LocalCache\\local-packages\\Python39\\site-packages\\flask_sqlalchemy\\model.py:121\u001b[0m, in \u001b[0;36mBindMetaMixin.__init__\u001b[1;34m(cls, name, bases, d)\u001b[0m\n\u001b[0;32m    115\u001b[0m \u001b[39mdef\u001b[39;00m \u001b[39m__init__\u001b[39m(\u001b[39mcls\u001b[39m, name, bases, d):\n\u001b[0;32m    116\u001b[0m     bind_key \u001b[39m=\u001b[39m (\n\u001b[0;32m    117\u001b[0m         d\u001b[39m.\u001b[39mpop(\u001b[39m'\u001b[39m\u001b[39m__bind_key__\u001b[39m\u001b[39m'\u001b[39m, \u001b[39mNone\u001b[39;00m)\n\u001b[0;32m    118\u001b[0m         \u001b[39mor\u001b[39;00m \u001b[39mgetattr\u001b[39m(\u001b[39mcls\u001b[39m, \u001b[39m'\u001b[39m\u001b[39m__bind_key__\u001b[39m\u001b[39m'\u001b[39m, \u001b[39mNone\u001b[39;00m)\n\u001b[0;32m    119\u001b[0m     )\n\u001b[1;32m--> 121\u001b[0m     \u001b[39msuper\u001b[39;49m(BindMetaMixin, \u001b[39mcls\u001b[39;49m)\u001b[39m.\u001b[39;49m\u001b[39m__init__\u001b[39;49m(name, bases, d)\n\u001b[0;32m    123\u001b[0m     \u001b[39mif\u001b[39;00m bind_key \u001b[39mis\u001b[39;00m \u001b[39mnot\u001b[39;00m \u001b[39mNone\u001b[39;00m \u001b[39mand\u001b[39;00m \u001b[39mgetattr\u001b[39m(\u001b[39mcls\u001b[39m, \u001b[39m'\u001b[39m\u001b[39m__table__\u001b[39m\u001b[39m'\u001b[39m, \u001b[39mNone\u001b[39;00m) \u001b[39mis\u001b[39;00m \u001b[39mnot\u001b[39;00m \u001b[39mNone\u001b[39;00m:\n\u001b[0;32m    124\u001b[0m         \u001b[39mcls\u001b[39m\u001b[39m.\u001b[39m__table__\u001b[39m.\u001b[39minfo[\u001b[39m'\u001b[39m\u001b[39mbind_key\u001b[39m\u001b[39m'\u001b[39m] \u001b[39m=\u001b[39m bind_key\n",
      "File \u001b[1;32m~\\AppData\\Local\\Packages\\PythonSoftwareFoundation.Python.3.9_qbz5n2kfra8p0\\LocalCache\\local-packages\\Python39\\site-packages\\sqlalchemy\\orm\\decl_api.py:72\u001b[0m, in \u001b[0;36mDeclarativeMeta.__init__\u001b[1;34m(cls, classname, bases, dict_, **kw)\u001b[0m\n\u001b[0;32m     69\u001b[0m         \u001b[39mcls\u001b[39m\u001b[39m.\u001b[39m_sa_registry \u001b[39m=\u001b[39m reg\n\u001b[0;32m     71\u001b[0m \u001b[39mif\u001b[39;00m \u001b[39mnot\u001b[39;00m \u001b[39mcls\u001b[39m\u001b[39m.\u001b[39m\u001b[39m__dict__\u001b[39m\u001b[39m.\u001b[39mget(\u001b[39m\"\u001b[39m\u001b[39m__abstract__\u001b[39m\u001b[39m\"\u001b[39m, \u001b[39mFalse\u001b[39;00m):\n\u001b[1;32m---> 72\u001b[0m     _as_declarative(reg, \u001b[39mcls\u001b[39;49m, dict_)\n\u001b[0;32m     73\u001b[0m \u001b[39mtype\u001b[39m\u001b[39m.\u001b[39m\u001b[39m__init__\u001b[39m(\u001b[39mcls\u001b[39m, classname, bases, dict_)\n",
      "File \u001b[1;32m~\\AppData\\Local\\Packages\\PythonSoftwareFoundation.Python.3.9_qbz5n2kfra8p0\\LocalCache\\local-packages\\Python39\\site-packages\\sqlalchemy\\orm\\decl_base.py:126\u001b[0m, in \u001b[0;36m_as_declarative\u001b[1;34m(registry, cls, dict_)\u001b[0m\n\u001b[0;32m    121\u001b[0m \u001b[39mdef\u001b[39;00m \u001b[39m_as_declarative\u001b[39m(registry, \u001b[39mcls\u001b[39m, dict_):\n\u001b[0;32m    122\u001b[0m \n\u001b[0;32m    123\u001b[0m     \u001b[39m# declarative scans the class for attributes.  no table or mapper\u001b[39;00m\n\u001b[0;32m    124\u001b[0m     \u001b[39m# args passed separately.\u001b[39;00m\n\u001b[1;32m--> 126\u001b[0m     \u001b[39mreturn\u001b[39;00m _MapperConfig\u001b[39m.\u001b[39;49msetup_mapping(registry, \u001b[39mcls\u001b[39;49m, dict_, \u001b[39mNone\u001b[39;49;00m, {})\n",
      "File \u001b[1;32m~\\AppData\\Local\\Packages\\PythonSoftwareFoundation.Python.3.9_qbz5n2kfra8p0\\LocalCache\\local-packages\\Python39\\site-packages\\sqlalchemy\\orm\\decl_base.py:177\u001b[0m, in \u001b[0;36m_MapperConfig.setup_mapping\u001b[1;34m(cls, registry, cls_, dict_, table, mapper_kw)\u001b[0m\n\u001b[0;32m    174\u001b[0m \u001b[39melse\u001b[39;00m:\n\u001b[0;32m    175\u001b[0m     cfg_cls \u001b[39m=\u001b[39m _ClassScanMapperConfig\n\u001b[1;32m--> 177\u001b[0m \u001b[39mreturn\u001b[39;00m cfg_cls(registry, cls_, dict_, table, mapper_kw)\n",
      "File \u001b[1;32m~\\AppData\\Local\\Packages\\PythonSoftwareFoundation.Python.3.9_qbz5n2kfra8p0\\LocalCache\\local-packages\\Python39\\site-packages\\sqlalchemy\\orm\\decl_base.py:310\u001b[0m, in \u001b[0;36m_ClassScanMapperConfig.__init__\u001b[1;34m(self, registry, cls_, dict_, table, mapper_kw)\u001b[0m\n\u001b[0;32m    306\u001b[0m \u001b[39mself\u001b[39m\u001b[39m.\u001b[39m_extract_mappable_attributes()\n\u001b[0;32m    308\u001b[0m \u001b[39mself\u001b[39m\u001b[39m.\u001b[39m_extract_declared_columns()\n\u001b[1;32m--> 310\u001b[0m \u001b[39mself\u001b[39;49m\u001b[39m.\u001b[39;49m_setup_table(table)\n\u001b[0;32m    312\u001b[0m \u001b[39mself\u001b[39m\u001b[39m.\u001b[39m_setup_inheritance(mapper_kw)\n\u001b[0;32m    314\u001b[0m \u001b[39mself\u001b[39m\u001b[39m.\u001b[39m_early_mapping(mapper_kw)\n",
      "File \u001b[1;32m~\\AppData\\Local\\Packages\\PythonSoftwareFoundation.Python.3.9_qbz5n2kfra8p0\\LocalCache\\local-packages\\Python39\\site-packages\\sqlalchemy\\orm\\decl_base.py:799\u001b[0m, in \u001b[0;36m_ClassScanMapperConfig._setup_table\u001b[1;34m(self, table)\u001b[0m\n\u001b[0;32m    794\u001b[0m         \u001b[39mif\u001b[39;00m autoload:\n\u001b[0;32m    795\u001b[0m             table_kw[\u001b[39m\"\u001b[39m\u001b[39mautoload\u001b[39m\u001b[39m\"\u001b[39m] \u001b[39m=\u001b[39m \u001b[39mTrue\u001b[39;00m\n\u001b[0;32m    797\u001b[0m         table \u001b[39m=\u001b[39m \u001b[39mself\u001b[39m\u001b[39m.\u001b[39mset_cls_attribute(\n\u001b[0;32m    798\u001b[0m             \u001b[39m\"\u001b[39m\u001b[39m__table__\u001b[39m\u001b[39m\"\u001b[39m,\n\u001b[1;32m--> 799\u001b[0m             table_cls(\n\u001b[0;32m    800\u001b[0m                 tablename,\n\u001b[0;32m    801\u001b[0m                 \u001b[39mself\u001b[39m\u001b[39m.\u001b[39m_metadata_for_cls(manager),\n\u001b[0;32m    802\u001b[0m                 \u001b[39m*\u001b[39m(\u001b[39mtuple\u001b[39m(declared_columns) \u001b[39m+\u001b[39m \u001b[39mtuple\u001b[39m(args)),\n\u001b[0;32m    803\u001b[0m                 \u001b[39m*\u001b[39m\u001b[39m*\u001b[39mtable_kw\n\u001b[0;32m    804\u001b[0m             ),\n\u001b[0;32m    805\u001b[0m         )\n\u001b[0;32m    806\u001b[0m \u001b[39melse\u001b[39;00m:\n\u001b[0;32m    807\u001b[0m     \u001b[39mif\u001b[39;00m table \u001b[39mis\u001b[39;00m \u001b[39mNone\u001b[39;00m:\n",
      "File \u001b[1;32m~\\AppData\\Local\\Packages\\PythonSoftwareFoundation.Python.3.9_qbz5n2kfra8p0\\LocalCache\\local-packages\\Python39\\site-packages\\flask_sqlalchemy\\model.py:90\u001b[0m, in \u001b[0;36mNameMetaMixin.__table_cls__\u001b[1;34m(cls, *args, **kwargs)\u001b[0m\n\u001b[0;32m     87\u001b[0m key \u001b[39m=\u001b[39m _get_table_key(args[\u001b[39m0\u001b[39m], kwargs\u001b[39m.\u001b[39mget(\u001b[39m'\u001b[39m\u001b[39mschema\u001b[39m\u001b[39m'\u001b[39m))\n\u001b[0;32m     89\u001b[0m \u001b[39mif\u001b[39;00m key \u001b[39min\u001b[39;00m \u001b[39mcls\u001b[39m\u001b[39m.\u001b[39mmetadata\u001b[39m.\u001b[39mtables:\n\u001b[1;32m---> 90\u001b[0m     \u001b[39mreturn\u001b[39;00m sa\u001b[39m.\u001b[39mTable(\u001b[39m*\u001b[39margs, \u001b[39m*\u001b[39m\u001b[39m*\u001b[39mkwargs)\n\u001b[0;32m     92\u001b[0m \u001b[39m# if a primary key or constraint is found, create a table for\u001b[39;00m\n\u001b[0;32m     93\u001b[0m \u001b[39m# joined-table inheritance\u001b[39;00m\n\u001b[0;32m     94\u001b[0m \u001b[39mfor\u001b[39;00m arg \u001b[39min\u001b[39;00m args:\n",
      "File \u001b[1;32m<string>:2\u001b[0m, in \u001b[0;36m__new__\u001b[1;34m(cls, *args, **kw)\u001b[0m\n",
      "File \u001b[1;32m~\\AppData\\Local\\Packages\\PythonSoftwareFoundation.Python.3.9_qbz5n2kfra8p0\\LocalCache\\local-packages\\Python39\\site-packages\\sqlalchemy\\util\\deprecations.py:298\u001b[0m, in \u001b[0;36mdeprecated_params.<locals>.decorate.<locals>.warned\u001b[1;34m(fn, *args, **kwargs)\u001b[0m\n\u001b[0;32m    291\u001b[0m     \u001b[39mif\u001b[39;00m m \u001b[39min\u001b[39;00m kwargs:\n\u001b[0;32m    292\u001b[0m         _warn_with_version(\n\u001b[0;32m    293\u001b[0m             messages[m],\n\u001b[0;32m    294\u001b[0m             versions[m],\n\u001b[0;32m    295\u001b[0m             version_warnings[m],\n\u001b[0;32m    296\u001b[0m             stacklevel\u001b[39m=\u001b[39m\u001b[39m3\u001b[39m,\n\u001b[0;32m    297\u001b[0m         )\n\u001b[1;32m--> 298\u001b[0m \u001b[39mreturn\u001b[39;00m fn(\u001b[39m*\u001b[39margs, \u001b[39m*\u001b[39m\u001b[39m*\u001b[39mkwargs)\n",
      "File \u001b[1;32m~\\AppData\\Local\\Packages\\PythonSoftwareFoundation.Python.3.9_qbz5n2kfra8p0\\LocalCache\\local-packages\\Python39\\site-packages\\sqlalchemy\\sql\\schema.py:578\u001b[0m, in \u001b[0;36mTable.__new__\u001b[1;34m(cls, *args, **kw)\u001b[0m\n\u001b[0;32m    576\u001b[0m \u001b[39mif\u001b[39;00m key \u001b[39min\u001b[39;00m metadata\u001b[39m.\u001b[39mtables:\n\u001b[0;32m    577\u001b[0m     \u001b[39mif\u001b[39;00m \u001b[39mnot\u001b[39;00m keep_existing \u001b[39mand\u001b[39;00m \u001b[39mnot\u001b[39;00m extend_existing \u001b[39mand\u001b[39;00m \u001b[39mbool\u001b[39m(args):\n\u001b[1;32m--> 578\u001b[0m         \u001b[39mraise\u001b[39;00m exc\u001b[39m.\u001b[39mInvalidRequestError(\n\u001b[0;32m    579\u001b[0m             \u001b[39m\"\u001b[39m\u001b[39mTable \u001b[39m\u001b[39m'\u001b[39m\u001b[39m%s\u001b[39;00m\u001b[39m'\u001b[39m\u001b[39m is already defined for this MetaData \u001b[39m\u001b[39m\"\u001b[39m\n\u001b[0;32m    580\u001b[0m             \u001b[39m\"\u001b[39m\u001b[39minstance.  Specify \u001b[39m\u001b[39m'\u001b[39m\u001b[39mextend_existing=True\u001b[39m\u001b[39m'\u001b[39m\u001b[39m \u001b[39m\u001b[39m\"\u001b[39m\n\u001b[0;32m    581\u001b[0m             \u001b[39m\"\u001b[39m\u001b[39mto redefine \u001b[39m\u001b[39m\"\u001b[39m\n\u001b[0;32m    582\u001b[0m             \u001b[39m\"\u001b[39m\u001b[39moptions and columns on an \u001b[39m\u001b[39m\"\u001b[39m\n\u001b[0;32m    583\u001b[0m             \u001b[39m\"\u001b[39m\u001b[39mexisting Table object.\u001b[39m\u001b[39m\"\u001b[39m \u001b[39m%\u001b[39m key\n\u001b[0;32m    584\u001b[0m         )\n\u001b[0;32m    585\u001b[0m     table \u001b[39m=\u001b[39m metadata\u001b[39m.\u001b[39mtables[key]\n\u001b[0;32m    586\u001b[0m     \u001b[39mif\u001b[39;00m extend_existing:\n",
      "\u001b[1;31mInvalidRequestError\u001b[0m: Table 'users' is already defined for this MetaData instance.  Specify 'extend_existing=True' to redefine options and columns on an existing Table object."
     ]
    }
   ],
   "source": [
    "\n",
    "class User(db.Model):\n",
    "\n",
    "    __tablename__ = 'users'\n",
    "    email = db.Column(db.String, primary_key=True)\n",
    "    id = db.Column(db.String)\n",
    "    handle = db.Column(db.String)\n",
    "    password = db.Column(db.String)\n",
    "    authenticated = db.Column(db.Boolean, default=False)\n",
    "    \n",
    "    def is_active(self):\n",
    "        \"\"\"True, as all users are active.\"\"\"\n",
    "        return True\n",
    "    \n",
    "    def get_id(self):\n",
    "        \"\"\"Return the email address to satisfy Flask-Login's requirements.\"\"\"\n",
    "        return self.email\n",
    "\n",
    "    def get_user_id(self):\n",
    "        \"\"\"Return the email address to satisfy Flask-Login's requirements.\"\"\"\n",
    "        return self.id   \n",
    "\n",
    "    def get_user_handle(self):\n",
    "        \"\"\"Return the email address to satisfy Flask-Login's requirements.\"\"\"\n",
    "        return self.handle         \n",
    "        \n",
    "    def is_authenticated(self):\n",
    "        \"\"\"Return True if the user is authenticate#d.\"\"\"\n",
    "        return self.authenticated\n"
   ]
  },
  {
   "cell_type": "code",
   "execution_count": null,
   "metadata": {},
   "outputs": [],
   "source": [
    "df = get_feed(8, None)\n",
    "df = format_feed(df)\n",
    "\n",
    "print(df)"
   ]
  },
  {
   "cell_type": "code",
   "execution_count": 61,
   "metadata": {},
   "outputs": [],
   "source": [
    "def notify_mentionted_users(post_text, current_user):\n",
    "    if '@' in post_text:\n",
    "        #Get the list of users that are mentioned\n",
    "        users = re.findall(r'@([a-zA-Z0-9_]+)', post_text)\n",
    "        for user in users:\n",
    "                #Get user_id of follow account\n",
    "            with engine.connect() as connection:\n",
    "                ResultProxy = connection.execute('''SELECT u.id \n",
    "                                                    FROM users u \n",
    "                                                    WHERE u.handle = %s; ''', (user))\n",
    "\n",
    "            df = DataFrame(ResultProxy.fetchall())\n",
    "            if len(df) > 0:\n",
    "                df.columns = ResultProxy.keys()\n",
    "\n",
    "                mentioned_user_id = df['id'][0]\n",
    "                print(mentioned_user_id)\n",
    "\n",
    "\n",
    "                #Get the post_id of the post\n",
    "                with engine.connect() as connection:\n",
    "                    ResultProxy = connection.execute('''SELECT p.post_id\n",
    "                                                        FROM posts p \n",
    "                                                        WHERE p.user_id = %s \n",
    "                                                        ORDER BY p.post_id DESC\n",
    "                                                        LIMIT 1; ''', (current_user))\n",
    "                    df = DataFrame(ResultProxy.fetchall())\n",
    "                    df.columns = ResultProxy.keys()\n",
    "\n",
    "                post_id = df['post_id'][0]\n",
    "\n",
    "                #Notify the user that someone mentioned them\n",
    "                event_type_id = 3\n",
    "                with engine.connect() as connection:\n",
    "                    connection.execute('INSERT INTO notifications (user_id, triggered_by_user_id, event_type_id, reference_post_id) VALUES (%s, %s, %s, %s);',  (mentioned_user_id, current_user, event_type_id, post_id))\n",
    "                    \n",
    "                        \n",
    "            "
   ]
  },
  {
   "cell_type": "code",
   "execution_count": null,
   "metadata": {},
   "outputs": [],
   "source": [
    "\n",
    "post_text = \"TEST - @Matthew have you ever seen this? https://www.youtube.com/watch?v=dQw4w9WgXcQ\"\n",
    "\n",
    "current_user = 8\n",
    "\n",
    "notify_mentionted_users(post_text, current_user)\n",
    "    "
   ]
  },
  {
   "cell_type": "code",
   "execution_count": null,
   "metadata": {},
   "outputs": [],
   "source": [
    "#Get the post_id of the post\n",
    "with engine.connect() as connection:\n",
    "    ResultProxy = connection.execute('''SELECT *\n",
    "                                        FROM notifications\n",
    "                                        ORDER BY id DESC; ''')\n",
    "    df = DataFrame(ResultProxy.fetchall())\n",
    "    df.columns = ResultProxy.keys()"
   ]
  }
 ],
 "metadata": {
  "interpreter": {
   "hash": "e8fe2f68fb170d3e59715732971b3e459b293954a8edfc2b4e8212f6d304449f"
  },
  "kernelspec": {
   "display_name": "Python 3.9.12 64-bit (windows store)",
   "language": "python",
   "name": "python3"
  },
  "language_info": {
   "codemirror_mode": {
    "name": "ipython",
    "version": 3
   },
   "file_extension": ".py",
   "mimetype": "text/x-python",
   "name": "python",
   "nbconvert_exporter": "python",
   "pygments_lexer": "ipython3",
   "version": "3.9.13"
  },
  "orig_nbformat": 4
 },
 "nbformat": 4,
 "nbformat_minor": 2
}
